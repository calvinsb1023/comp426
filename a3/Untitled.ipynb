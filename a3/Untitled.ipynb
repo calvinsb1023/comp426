{
 "cells": [
  {
   "cell_type": "code",
   "execution_count": null,
   "metadata": {
    "collapsed": true
   },
   "outputs": [],
   "source": [
    "import sqlite3, datetime\n",
    "import pandas as pd\n",
    "\n",
    "monkepo = sqlite3.connect(\"monkepo.db\")\n",
    "cur = monkepo.cursor()\n",
    "cur.execute(\"\"\"DROP TABLE IF EXISTS Students\"\"\")\n",
    "cur.execute(\"\"\"CREATE TABLE Students (\n",
    "                StudentFirstName TEXT,\n",
    "                StudentLastName TEXT,\n",
    "                CourseName TEXT,\n",
    "                Semester TEXT,\n",
    "                SectionNumber INTEGER,\n",
    "                ProfessorFirstName TEXT,\n",
    "                ProfessorLastName TEXT,\n",
    "                ExamDate DATETIME,\n",
    "                PRIMARY KEY(mid, latitude, longitude, datetime),\n",
    "                FOREIGN KEY(mid) REFERENCES Monkepo(mid));\"\"\")\n",
    "\n",
    "dataframe = pd.read_csv(\"a3.csv\")\n",
    "\n",
    "for row in dataframe.itertuples():\n",
    "    dt = datetime.datetime.strptime(row[7], \"%YYYY-%mm-%dd\").date()\n",
    "    cur.execute(\"\"\"INSERT INTO STUDENTS (StudentFirstName, StudentLastName, \n",
    "                                        CourseName, Semester, SectionNumber, \n",
    "                                        ProfessorFirstName, ProfessorLastName, ExamDate);\"\"\",\n",
    "                                        (row[0], row[1], row[2], row[3], row[4], row[5], row[6], dt))\n",
    "        \n",
    "for row in dataframe.itertuples():\n",
    "        tempcount = monkeType[row.name]\n",
    "        dt = datetime.datetime.strptime(row.date, \"%Y-%m-%d\").date()\n",
    "        try:\n",
    "            tm = datetime.datetime.strptime(row.time, \"%H:%M:%S.%f\").time()\n",
    "        except ValueError as e:\n",
    "            tm = datetime.datetime.strptime(row.time, \"%H:%M:%S\").time()\n",
    "            continue\n",
    "        comb = datetime.datetime.combine(dt, tm)\n",
    "        \n",
    "        try:\n",
    "            cur.execute(\"INSERT INTO Appearance (mid, latitude, longitude, datetime) VALUES (?, ?, ?, ?);\", (tempcount, row.latitude, row.longitude, comb))\n",
    "        except sqlite3.IntegrityError as e:\n",
    "            continue\n",
    "\n",
    "\n",
    "monkepo.commit()\n",
    "monkepo.close()"
   ]
  }
 ],
 "metadata": {
  "anaconda-cloud": {},
  "kernelspec": {
   "display_name": "Python [Root]",
   "language": "python",
   "name": "Python [Root]"
  },
  "language_info": {
   "codemirror_mode": {
    "name": "ipython",
    "version": 2
   },
   "file_extension": ".py",
   "mimetype": "text/x-python",
   "name": "python",
   "nbconvert_exporter": "python",
   "pygments_lexer": "ipython2",
   "version": "2.7.12"
  }
 },
 "nbformat": 4,
 "nbformat_minor": 0
}
